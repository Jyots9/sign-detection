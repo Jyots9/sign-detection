{
  "nbformat": 4,
  "nbformat_minor": 0,
  "metadata": {
    "colab": {
      "provenance": []
    },
    "kernelspec": {
      "name": "python3",
      "display_name": "Python 3"
    },
    "language_info": {
      "name": "python"
    },
    "gpuClass": "standard",
    "accelerator": "GPU"
  },
  "cells": [
    {
      "cell_type": "code",
      "execution_count": null,
      "metadata": {
        "id": "obpL_51XvAKy"
      },
      "outputs": [],
      "source": [
        "import tensorflow\n",
        "import numpy as np\n",
        "import datetime \n",
        "import os\n",
        "import shutil"
      ]
    },
    {
      "cell_type": "code",
      "source": [
        "from google.colab import drive\n",
        "drive.mount('/content/drive')"
      ],
      "metadata": {
        "id": "HTB9VWNBvF9P",
        "colab": {
          "base_uri": "https://localhost:8080/"
        },
        "outputId": "fd21dd32-d396-41a3-f339-1707c3953c25"
      },
      "execution_count": null,
      "outputs": [
        {
          "output_type": "stream",
          "name": "stdout",
          "text": [
            "Mounted at /content/drive\n"
          ]
        }
      ]
    },
    {
      "cell_type": "code",
      "source": [
        "!unzip -q \"/content/drive/MyDrive/DeepVision/data.zip\" -d \"/content/drive/MyDrive/DeepVision\""
      ],
      "metadata": {
        "colab": {
          "base_uri": "https://localhost:8080/"
        },
        "id": "fnwroHFZwhPo",
        "outputId": "ea7694b3-e985-4aa7-8311-e7746272c78d"
      },
      "execution_count": null,
      "outputs": [
        {
          "output_type": "stream",
          "name": "stdout",
          "text": [
            "replace /content/drive/MyDrive/DeepVision/train/Signed/1 (1).png? [y]es, [n]o, [A]ll, [N]one, [r]ename: "
          ]
        }
      ]
    },
    {
      "cell_type": "code",
      "source": [
        "from tensorflow.keras.preprocessing.image import ImageDataGenerator\n",
        "from tensorflow.keras.preprocessing import image\n",
        "from tensorflow.keras.optimizers import RMSprop\n",
        "from tensorflow.keras.models import Sequential\n",
        "from tensorflow.keras import datasets,layers,models\n",
        "from tensorflow.keras.layers import Input, Conv2D ,MaxPool2D, Flatten, Dense\n",
        "train_data = ImageDataGenerator(rescale=1/255,validation_split=0.2)\n",
        "validate_data = ImageDataGenerator(rescale=1/255)\n",
        "rescale=ImageDataGenerator(rescale=1/255)\n",
        "train = train_data.flow_from_directory(\"/content/drive/MyDrive/DeepVision/train\",\n",
        "    target_size =(256,256),\n",
        "    batch_size = 64,\n",
        "    class_mode = 'binary',\n",
        "    shuffle = 'True'\n",
        ")\n",
        "\n",
        "validate = train_data.flow_from_directory(\"/content/drive/MyDrive/DeepVision/val\",\n",
        "   \n",
        "    target_size =(256,256),\n",
        "    batch_size = 100,\n",
        "    class_mode = 'binary',\n",
        "    shuffle = 'True'\n",
        ")"
      ],
      "metadata": {
        "colab": {
          "base_uri": "https://localhost:8080/"
        },
        "id": "i-VpztKdw-HW",
        "outputId": "e1da054f-9155-44a3-eed1-e860325c2a68"
      },
      "execution_count": null,
      "outputs": [
        {
          "output_type": "stream",
          "name": "stdout",
          "text": [
            "Found 46978 images belonging to 2 classes.\n",
            "Found 2000 images belonging to 2 classes.\n"
          ]
        }
      ]
    },
    {
      "cell_type": "code",
      "source": [
        "model2 = Sequential([\n",
        "    layers.Conv2D(filters=64, kernel_size=(3, 3), activation='relu', input_shape=(256,256,3)),\n",
        "    layers.MaxPooling2D((2, 2)),\n",
        "    \n",
        "    layers.Conv2D(filters=64, kernel_size=(3, 3), activation='relu'),\n",
        "    layers.MaxPooling2D((2, 2)),\n",
        "\n",
        "    layers.Conv2D(filters=128,kernel_size=(3,3),activation='relu'),\n",
        "    layers.Conv2D(filters=128, kernel_size=(3, 3), activation='relu'),\n",
        "    layers.MaxPooling2D((2, 2)),\n",
        "    layers.Conv2D(filters=512, kernel_size=(3, 3), activation='relu'),\n",
        "    layers.MaxPool2D(pool_size=(2,2),strides=(2,2)),\n",
        "    layers.Flatten(),\n",
        "    layers.Dense(128, activation='relu'),\n",
        "    layers.Dense(64, activation='relu'),\n",
        "    layers.Dense(1, activation='sigmoid')\n",
        "])"
      ],
      "metadata": {
        "id": "71UyCM7E1AYn"
      },
      "execution_count": null,
      "outputs": []
    },
    {
      "cell_type": "code",
      "source": [
        "from tensorflow.keras import Model\n",
        "model = Model (inputs=input, outputs =output)\n"
      ],
      "metadata": {
        "id": "nppGG3bqBfsj"
      },
      "execution_count": null,
      "outputs": []
    },
    {
      "cell_type": "code",
      "source": [
        "model2.compile(optimizer='adam',loss='binary_crossentropy',metrics=['accuracy'])"
      ],
      "metadata": {
        "id": "a0TvbZUQ0d9Q"
      },
      "execution_count": null,
      "outputs": []
    },
    {
      "cell_type": "code",
      "source": [
        "model2.fit(train,epochs=10,steps_per_epoch=10)"
      ],
      "metadata": {
        "id": "UGEyiezrDOEG",
        "colab": {
          "base_uri": "https://localhost:8080/"
        },
        "outputId": "d408f119-0493-42f5-d8a2-0427145212ac"
      },
      "execution_count": null,
      "outputs": [
        {
          "output_type": "stream",
          "name": "stdout",
          "text": [
            "Epoch 1/10\n",
            "10/10 [==============================] - 545s 54s/step - loss: 0.6310 - accuracy: 0.5938\n",
            "Epoch 2/10\n",
            "10/10 [==============================] - 530s 53s/step - loss: 0.5727 - accuracy: 0.7375\n",
            "Epoch 3/10\n",
            "10/10 [==============================] - 523s 52s/step - loss: 0.5292 - accuracy: 0.7672\n",
            "Epoch 4/10\n",
            "10/10 [==============================] - 508s 51s/step - loss: 0.4410 - accuracy: 0.8078\n",
            "Epoch 5/10\n",
            "10/10 [==============================] - 516s 52s/step - loss: 0.4978 - accuracy: 0.7891\n",
            "Epoch 6/10\n",
            "10/10 [==============================] - 502s 50s/step - loss: 0.4149 - accuracy: 0.8188\n",
            "Epoch 7/10\n",
            " 9/10 [==========================>...] - ETA: 48s - loss: 0.3554 - accuracy: 0.8472 "
          ]
        }
      ]
    },
    {
      "cell_type": "code",
      "source": [
        "model = tensorflow.keras.models.load_model('/content/drive/MyDrive/DeepVision/Model.h5')"
      ],
      "metadata": {
        "id": "9xyt_zW1T2wL"
      },
      "execution_count": null,
      "outputs": []
    },
    {
      "cell_type": "code",
      "source": [
        "model.evaluate(validate)"
      ],
      "metadata": {
        "id": "H9R91b2unEki",
        "colab": {
          "base_uri": "https://localhost:8080/"
        },
        "outputId": "3f618620-abc7-41ed-b526-e19ef4f906a9"
      },
      "execution_count": null,
      "outputs": [
        {
          "output_type": "stream",
          "name": "stdout",
          "text": [
            "20/20 [==============================] - 7s 345ms/step - loss: 0.6001 - accuracy: 0.7280\n"
          ]
        },
        {
          "output_type": "execute_result",
          "data": {
            "text/plain": [
              "[0.6000763177871704, 0.7279999852180481]"
            ]
          },
          "metadata": {},
          "execution_count": 12
        }
      ]
    },
    {
      "cell_type": "code",
      "source": [
        "model2.save(\"/content/drive/MyDrive/DeepVision/Model.h5\")"
      ],
      "metadata": {
        "id": "9-Cp6d6BnM7A"
      },
      "execution_count": null,
      "outputs": []
    },
    {
      "cell_type": "code",
      "source": [
        "pred = model2.predict(validation_dataset)\n",
        "pred"
      ],
      "metadata": {
        "id": "r5xhflKUnUuD"
      },
      "execution_count": null,
      "outputs": []
    },
    {
      "cell_type": "code",
      "source": [
        "cv2_imshow(pred[0])"
      ],
      "metadata": {
        "id": "DJ6vKVMwY0Pb"
      },
      "execution_count": null,
      "outputs": []
    },
    {
      "cell_type": "code",
      "source": [
        "pred = model2.predict(validation_dataset)\n",
        "pred"
      ],
      "metadata": {
        "id": "uLMQisv4Y4Rm"
      },
      "execution_count": null,
      "outputs": []
    },
    {
      "cell_type": "code",
      "source": [],
      "metadata": {
        "id": "B3ieftTXY9cX"
      },
      "execution_count": null,
      "outputs": []
    }
  ]
}